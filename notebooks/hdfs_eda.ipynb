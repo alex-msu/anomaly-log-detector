{
 "cells": [
  {
   "cell_type": "markdown",
   "id": "649ae081",
   "metadata": {},
   "source": [
    "# Exploración de Datos HDFS\n",
    "---"
   ]
  },
  {
   "cell_type": "code",
   "execution_count": null,
   "id": "345ba587",
   "metadata": {},
   "outputs": [],
   "source": [
    "import pandas as pd\n",
    "import matplotlib.pyplot as plt\n",
    "from pathlib import Path"
   ]
  },
  {
   "cell_type": "code",
   "execution_count": null,
   "id": "6778821f",
   "metadata": {},
   "outputs": [],
   "source": [
    "# Cargar datos\n",
    "df = pd.read_csv('data/processed/hdfs_processed.csv')"
   ]
  },
  {
   "cell_type": "code",
   "execution_count": null,
   "id": "e6ef9ed7",
   "metadata": {},
   "outputs": [],
   "source": [
    "# Asegurarse de que 'plots' existe\n",
    "plots_dir = Path('outputs/plots')\n",
    "plots_dir.mkdir(parents=True, exist_ok=True)"
   ]
  },
  {
   "cell_type": "code",
   "execution_count": null,
   "id": "e2d3d7a6",
   "metadata": {},
   "outputs": [],
   "source": [
    "# Estadísticas básicas\n",
    "total = len(df)\n",
    "anom_count = int(df['label'].sum())\n",
    "anom_pct = df['label'].mean() * 100\n",
    "print(f\"Total logs: {total}\")\n",
    "print(f\"Anomalías: {anom_count} ({anom_pct:.2f}%)\")"
   ]
  },
  {
   "cell_type": "code",
   "execution_count": null,
   "id": "b7b6c2b3",
   "metadata": {},
   "outputs": [],
   "source": [
    "# Top 10 mensajes más frequentes\n",
    "top_messages = df['message'].value_counts().head(10)\n",
    "\n",
    "plt.figure(figsize=(10, 6))\n",
    "top_messages.plot(kind='barh')\n",
    "plt.gca().invert_yaxis()  # most frequent on top\n",
    "plt.title('Top 10 Mensajes más Frecuentes')\n",
    "plt.xlabel('Frecuencia')\n",
    "plt.tight_layout()\n",
    "plt.savefig(plots_dir / 'top_messages.png', dpi=120)\n",
    "plt.show()"
   ]
  },
  {
   "cell_type": "code",
   "execution_count": null,
   "id": "00d16fdb",
   "metadata": {},
   "outputs": [],
   "source": [
    "# Ejemplo de anomalías\n",
    "anom_df = df[df['label'] == 1]\n",
    "k = min(5, len(anom_df))\n",
    "print(\"\\nEjemplo de anomalías:\")\n",
    "print(anom_df[['message', 'block_id']].sample(k, random_state=42) if k > 0 else \"No hay anomalías etiquetadas.\")"
   ]
  }
 ],
 "metadata": {
  "language_info": {
   "name": "python"
  }
 },
 "nbformat": 4,
 "nbformat_minor": 5
}
