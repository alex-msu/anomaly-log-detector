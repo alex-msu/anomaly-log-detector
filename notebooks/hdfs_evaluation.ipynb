{
 "cells": [
  {
   "cell_type": "markdown",
   "id": "0d41bba1",
   "metadata": {},
   "source": [
    "# Evaluación HDFS\n",
    "---"
   ]
  },
  {
   "cell_type": "code",
   "execution_count": null,
   "id": "02492163",
   "metadata": {},
   "outputs": [],
   "source": [
    "import json\n",
    "from pathlib import Path\n",
    "import numpy as np\n",
    "import matplotlib.pyplot as plt\n",
    "import joblib\n",
    "from sklearn.metrics import classification_report, roc_curve, auc, confusion_matrix"
   ]
  },
  {
   "cell_type": "code",
   "execution_count": null,
   "id": "f5603f9a",
   "metadata": {},
   "outputs": [],
   "source": [
    "# Rutas\n",
    "plots_dir = Path('outputs/plots')\n",
    "plots_dir.mkdir(parents=True, exist_ok=True)\n",
    "meta_path = Path('outputs/detect_meta.json')"
   ]
  },
  {
   "cell_type": "code",
   "execution_count": null,
   "id": "a1c01a52",
   "metadata": {},
   "outputs": [],
   "source": [
    "# Cargar ground-truth labels (guardadas via joblib)\n",
    "y_true = joblib.load('data/processed/y.joblib')"
   ]
  },
  {
   "cell_type": "code",
   "execution_count": null,
   "id": "098db7d6",
   "metadata": {},
   "outputs": [],
   "source": [
    "# Load detection outputs\n",
    "mse = np.load('outputs/mse_scores.npy')\n",
    "predictions = np.load('outputs/anomaly_predictions.npy')\n",
    "\n",
    "assert len(y_true) == len(mse) == len(predictions), \"Length mismatch between y_true, mse, and predictions.\""
   ]
  },
  {
   "cell_type": "code",
   "execution_count": null,
   "id": "715dbf60",
   "metadata": {},
   "outputs": [],
   "source": [
    "# Load the exact threshold used during detection (so plots match your run)\n",
    "if meta_path.exists():\n",
    "    with open(meta_path, 'r', encoding='utf-8') as f:\n",
    "        meta = json.load(f)\n",
    "    threshold = meta.get('computed_threshold', None)\n",
    "else:\n",
    "    meta = {}\n",
    "    threshold = None"
   ]
  },
  {
   "cell_type": "markdown",
   "id": "02303606",
   "metadata": {},
   "source": [
    "## Evaluación"
   ]
  },
  {
   "cell_type": "code",
   "execution_count": null,
   "id": "16c14c85",
   "metadata": {},
   "outputs": [],
   "source": [
    "# Classification report + confusion matrix\n",
    "print(classification_report(y_true, predictions, digits=4))\n",
    "\n",
    "cm = confusion_matrix(y_true, predictions)\n",
    "print(\"Confusion matrix:\\n\", cm)"
   ]
  },
  {
   "cell_type": "code",
   "execution_count": null,
   "id": "1f281fc1",
   "metadata": {},
   "outputs": [],
   "source": [
    "# ROC curve using MSE as anomaly score (higher = more anomalous)\n",
    "fpr, tpr, thresh = roc_curve(y_true, mse)  # pos_label=1 by default\n",
    "roc_auc = auc(fpr, tpr)\n",
    "\n",
    "plt.figure(figsize=(10, 6))\n",
    "plt.plot(fpr, tpr, label=f'AUC = {roc_auc:.3f}')\n",
    "plt.plot([0, 1], [0, 1], 'k--')\n",
    "plt.title('Curva ROC - Detección de Anomalías')\n",
    "plt.xlabel('Tasa de Falsos Positivos')\n",
    "plt.ylabel('Tasa de Verdaderos Positivos')\n",
    "plt.legend()\n",
    "plt.tight_layout()\n",
    "plt.savefig(plots_dir / 'roc_curve.png', dpi=120)\n",
    "plt.show()"
   ]
  },
  {
   "cell_type": "code",
   "execution_count": null,
   "id": "20e1aee0",
   "metadata": {},
   "outputs": [],
   "source": [
    "# Reconstruction error distribution\n",
    "plt.figure(figsize=(10, 6))\n",
    "plt.hist(mse[y_true == 0], bins=50, alpha=0.5, label='Normales')\n",
    "plt.hist(mse[y_true == 1], bins=50, alpha=0.5, label='Anomalías')\n",
    "\n",
    "if threshold is not None:\n",
    "    plt.axvline(threshold, linestyle='--', label=f'Umbral: {threshold:.4f}')\n",
    "\n",
    "plt.title('Distribución de Errores de Reconstrucción (MSE)')\n",
    "plt.xlabel('MSE')\n",
    "plt.ylabel('Frecuencia')\n",
    "plt.yscale('log')  # often helpful for long tails\n",
    "plt.legend()\n",
    "plt.tight_layout()\n",
    "plt.savefig(plots_dir / 'mse_distribution.png', dpi=120)\n",
    "plt.show()"
   ]
  }
 ],
 "metadata": {
  "language_info": {
   "name": "python"
  }
 },
 "nbformat": 4,
 "nbformat_minor": 5
}
