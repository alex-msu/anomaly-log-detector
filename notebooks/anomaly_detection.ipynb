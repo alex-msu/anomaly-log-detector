{
  "cells": [
    {
      "cell_type": "markdown",
      "metadata": {
        "id": "9p7nfgPw3F3n"
      },
      "source": [
        "# Detección de Anomalías en Logs HDFS con PyTorch\n",
        "\n",
        "[![Open In Colab](https://colab.research.google.com/assets/colab-badge.svg)](https://github.com/alex-msu/anomaly-log-detector/blob/main/notebooks/anomaly_detection.ipynb)\n",
        "\n",
        "Este notebook ejecuta todo el pipeline de detección de anomalías en logs HDFS usando un autoencoder en PyTorch."
      ]
    },
    {
      "cell_type": "markdown",
      "metadata": {
        "id": "o-Hock2-3NFB"
      },
      "source": [
        "## Configuración inicial"
      ]
    },
    {
      "cell_type": "code",
      "execution_count": null,
      "metadata": {
        "id": "ohWqhUZ63Bp_"
      },
      "outputs": [],
      "source": [
        "# Conectar con Google Drive\n",
        "from google.colab import drive\n",
        "drive.mount('/content/drive')\n",
        "\n",
        "# Clonar el repositorio del proyecto\n",
        "repo_url = \"https://github.com/alex-msu/anomaly-log-detector.git\"\n",
        "!git clone {repo_url}\n",
        "%cd anomaly-log-detector"
      ]
    },
    {
      "cell_type": "code",
      "execution_count": null,
      "metadata": {
        "id": "c3wx6F_S3SfV"
      },
      "outputs": [],
      "source": [
        "# Instalar dependencias\n",
        "!pip install -r requirements.txt"
      ]
    },
    {
      "cell_type": "code",
      "execution_count": null,
      "metadata": {
        "id": "HT7TqB8K3UH4"
      },
      "outputs": [],
      "source": [
        "# Verificar el entorno\n",
        "import torch\n",
        "print(f\"PyTorch version: {torch.__version__}\")\n",
        "print(f\"GPU disponible: {torch.cuda.is_available()}\")\n",
        "if torch.cuda.is_available():\n",
        "    print(f\"GPU: {torch.cuda.get_device_name(0)}\")\n",
        "    print(f\"Memoria GPU: {torch.cuda.get_device_properties(0).total_memory / 1024**3:.2f} GB\")"
      ]
    },
    {
      "cell_type": "markdown",
      "metadata": {
        "id": "qsjMIc8p3V4_"
      },
      "source": [
        "## Ejecutar el pipeline completo"
      ]
    },
    {
      "cell_type": "code",
      "execution_count": null,
      "metadata": {
        "id": "EJvL3t7f3ZT4"
      },
      "outputs": [],
      "source": [
        "# Ejecutar el proceso principal\n",
        "!python main.py"
      ]
    },
    {
      "cell_type": "markdown",
      "metadata": {
        "id": "Dor6DHhy3Y3a"
      },
      "source": [
        "## Visualización de resultados"
      ]
    },
    {
      "cell_type": "code",
      "execution_count": null,
      "metadata": {
        "id": "mlKvsUwD3cQZ"
      },
      "outputs": [],
      "source": [
        "import joblib\n",
        "import matplotlib.pyplot as plt\n",
        "import numpy as np\n",
        "import pandas as pd\n",
        "from sklearn.metrics import confusion_matrix, ConfusionMatrixDisplay, classification_report"
      ]
    },
    {
      "cell_type": "code",
      "execution_count": null,
      "metadata": {
        "id": "fRnI1UYf3e5t"
      },
      "outputs": [],
      "source": [
        "# Cargar resultados\n",
        "mse_scores = joblib.load('data/results/mse_scores.joblib')\n",
        "preds = joblib.load('data/results/anomaly_preds.joblib')\n",
        "meta = joblib.load('data/results/anomaly_meta.joblib')"
      ]
    },
    {
      "cell_type": "code",
      "execution_count": null,
      "metadata": {
        "id": "C_F-zqGw3f4G"
      },
      "outputs": [],
      "source": [
        "# Mostrar métricas\n",
        "print(\"\\nMétricas de detección:\")\n",
        "print(f\"- Threshold: {meta['threshold']:.4f}\")\n",
        "print(f\"- Método: {meta['threshold_method']}\")\n",
        "print(f\"- Porcentaje de anomalías: {meta['anomaly_ratio']*100:.2f}%\")\n",
        "print(f\"- Total anomalías detectadas: {int(meta['num_anomalies'])}\")"
      ]
    },
    {
      "cell_type": "code",
      "execution_count": null,
      "metadata": {
        "id": "Z-5XnWBI3g2D"
      },
      "outputs": [],
      "source": [
        "# Histograma de MSE\n",
        "plt.figure(figsize=(10, 6))\n",
        "plt.hist(mse_scores, bins=50, alpha=0.7, color='blue')\n",
        "plt.axvline(meta['threshold'], color='red', linestyle='dashed', linewidth=2)\n",
        "plt.title('Distribución de Errores de Reconstrucción (MSE)')\n",
        "plt.xlabel('MSE')\n",
        "plt.ylabel('Frecuencia')\n",
        "plt.legend(['Umbral de anomalía', 'Distribución MSE'])\n",
        "plt.grid(True)\n",
        "plt.show()\n"
      ]
    },
    {
      "cell_type": "code",
      "execution_count": null,
      "metadata": {
        "id": "THzUBvo93huJ"
      },
      "outputs": [],
      "source": [
        "# Matriz de confusión y reporte de clasificación (si tenemos etiquetas reales)\n",
        "try:\n",
        "    y_true = joblib.load('data/processed/y.joblib')\n",
        "\n",
        "    # Matriz de confusión\n",
        "    cm = confusion_matrix(y_true, preds)\n",
        "    disp = ConfusionMatrixDisplay(confusion_matrix=cm, display_labels=['Normal', 'Anomalía'])\n",
        "    disp.plot(cmap='Blues', values_format='d')\n",
        "    plt.title('Matriz de Confusión')\n",
        "    plt.show()\n",
        "\n",
        "    # Reporte de clasificación\n",
        "    print(\"\\nReporte de Clasificación:\")\n",
        "    print(classification_report(y_true, preds, target_names=['Normal', 'Anomalía']))\n",
        "\n",
        "    # Curva Precision-Recall\n",
        "    from sklearn.metrics import precision_recall_curve, auc\n",
        "    precision, recall, _ = precision_recall_curve(y_true, mse_scores)\n",
        "    pr_auc = auc(recall, precision)\n",
        "\n",
        "    plt.figure(figsize=(10, 6))\n",
        "    plt.plot(recall, precision, color='darkorange', lw=2, label=f'PR curve (AUC = {pr_auc:.2f})')\n",
        "    plt.xlabel('Recall')\n",
        "    plt.ylabel('Precision')\n",
        "    plt.title('Curva Precision-Recall')\n",
        "    plt.legend(loc='best')\n",
        "    plt.grid(True)\n",
        "    plt.show()\n",
        "\n",
        "except Exception as e:\n",
        "    print(f\"No se pudieron cargar las etiquetas reales para evaluación completa: {e}\")"
      ]
    },
    {
      "cell_type": "markdown",
      "metadata": {
        "id": "47zt8oqo3pNY"
      },
      "source": [
        "## Guardar resultados en Drive"
      ]
    },
    {
      "cell_type": "code",
      "execution_count": null,
      "metadata": {
        "id": "sd-O_RgC3k94"
      },
      "outputs": [],
      "source": [
        "# Crear directorio en Drive\n",
        "drive_base = '/content/drive/MyDrive/anomaly_detection_results'\n",
        "!mkdir -p {drive_base}\n",
        "\n",
        "# Copiar resultados\n",
        "!cp -r data/results {drive_base}\n",
        "!cp -r models {drive_base}\n",
        "!cp main.py {drive_base}\n",
        "!cp requirements.txt {drive_base}\n",
        "\n",
        "print(f\"Resultados guardados en: {drive_base}\")"
      ]
    },
    {
      "cell_type": "markdown",
      "metadata": {
        "id": "v_EHDlHV3sJ6"
      },
      "source": [
        "## Exportar notebook como script"
      ]
    },
    {
      "cell_type": "code",
      "execution_count": null,
      "metadata": {
        "id": "pBpcNbR63ssl"
      },
      "outputs": [],
      "source": [
        "!jupyter nbconvert --to script anomaly_detection.ipynb\n",
        "\n",
        "print(\"\\n¡Proceso completo! Puedes encontrar todos los resultados en Google Drive.\")"
      ]
    }
  ],
  "metadata": {
    "colab": {
      "provenance": []
    },
    "kernelspec": {
      "display_name": "Python 3",
      "name": "python3"
    },
    "language_info": {
      "name": "python"
    }
  },
  "nbformat": 4,
  "nbformat_minor": 0
}
